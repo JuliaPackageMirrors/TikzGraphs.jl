{
 "metadata": {
  "language": "Julia",
  "name": "",
  "signature": "sha256:76db2c5c95005e142473bd0741d7417d5dde2f2e1731cf1a01409abbef8c9a19"
 },
 "nbformat": 3,
 "nbformat_minor": 0,
 "worksheets": [
  {
   "cells": [
    {
     "cell_type": "heading",
     "level": 1,
     "metadata": {},
     "source": [
      "TikzGraphs"
     ]
    },
    {
     "cell_type": "markdown",
     "metadata": {},
     "source": [
      "This library uses the LaTeX package [pgf/tikz](http://www.ctan.org/pkg/pgf) to produce graphs. It integrates with IJulia, outputting SVG images to the notebook."
     ]
    },
    {
     "cell_type": "heading",
     "level": 2,
     "metadata": {},
     "source": [
      "Installation"
     ]
    },
    {
     "cell_type": "code",
     "collapsed": false,
     "input": [
      "Pkg.add(\"Images\")\n",
      "Pkg.clone(\"https://github.com/sisl/TikzPictures.jl\")\n",
      "Pkg.clone(\"https://github.com/sisl/TikzGraphs.jl\")"
     ],
     "language": "python",
     "metadata": {},
     "outputs": []
    },
    {
     "cell_type": "markdown",
     "metadata": {},
     "source": [
      "In addition, you will need to install the following dependencies if you do not already have them on your system.\n",
      "* Pdf2svg. This is required by TikzPictures. On Ubuntu, you can get this by running `sudo apt-get install pdf2svg`. On Windows, you can download the binaries from http://www.cityinthesky.co.uk/opensource/pdf2svg/. Be sure to add pdf2svg to your path (and restart).\n",
      "* Pgf (version 3.0 or later). Install using your latex package manager (e.g., texlive or miktex).\n",
      "\n",
      "Once these things are installed, you should be able to run the following:"
     ]
    },
    {
     "cell_type": "code",
     "collapsed": false,
     "input": [
      "using TikzGraphs"
     ],
     "language": "python",
     "metadata": {},
     "outputs": [],
     "prompt_number": 1
    },
    {
     "cell_type": "heading",
     "level": 2,
     "metadata": {},
     "source": [
      "Examples"
     ]
    },
    {
     "cell_type": "code",
     "collapsed": false,
     "input": [
      "using TikzGraphs\n",
      "using TikzPictures\n",
      "using Graphs\n",
      "g = simple_graph(4)\n",
      "add_edge!(g, 1, 2)\n",
      "add_edge!(g, 2, 3)\n",
      "add_edge!(g, 3, 4)\n",
      "add_edge!(g, 1, 4)\n",
      "TikzGraphs.plot(g) # You can just use plot(g) if TikzGraphs was loaded after Graphs"
     ],
     "language": "python",
     "metadata": {},
     "outputs": [
      {
       "metadata": {},
       "output_type": "pyout",
       "prompt_number": 2,
       "svg": [
        "<?xml version=\"1.0\" encoding=\"UTF-8\"?>\n",
        "<svg xmlns=\"http://www.w3.org/2000/svg\" xmlns:xlink=\"http://www.w3.org/1999/xlink\" width=\"39.969pt\" height=\"98.101pt\" viewBox=\"0 0 39.969 98.101\" version=\"1.1\">\n",
        "<defs>\n",
        "<g>\n",
        "<symbol overflow=\"visible\" id=\"glyph-1175089794-0-0\">\n",
        "<path style=\"stroke:none;\" d=\"\"/>\n",
        "</symbol>\n",
        "<symbol overflow=\"visible\" id=\"glyph-1175089794-0-1\">\n",
        "<path style=\"stroke:none;\" d=\"M 2.9375 -6.375 C 2.9375 -6.625 2.9375 -6.640625 2.703125 -6.640625 C 2.078125 -6 1.203125 -6 0.890625 -6 L 0.890625 -5.6875 C 1.09375 -5.6875 1.671875 -5.6875 2.1875 -5.953125 L 2.1875 -0.78125 C 2.1875 -0.421875 2.15625 -0.3125 1.265625 -0.3125 L 0.953125 -0.3125 L 0.953125 0 C 1.296875 -0.03125 2.15625 -0.03125 2.5625 -0.03125 C 2.953125 -0.03125 3.828125 -0.03125 4.171875 0 L 4.171875 -0.3125 L 3.859375 -0.3125 C 2.953125 -0.3125 2.9375 -0.421875 2.9375 -0.78125 Z \"/>\n",
        "</symbol>\n",
        "<symbol overflow=\"visible\" id=\"glyph-1175089794-0-2\">\n",
        "<path style=\"stroke:none;\" d=\"M 1.265625 -0.765625 L 2.328125 -1.796875 C 3.875 -3.171875 4.46875 -3.703125 4.46875 -4.703125 C 4.46875 -5.84375 3.578125 -6.640625 2.359375 -6.640625 C 1.234375 -6.640625 0.5 -5.71875 0.5 -4.828125 C 0.5 -4.28125 1 -4.28125 1.03125 -4.28125 C 1.203125 -4.28125 1.546875 -4.390625 1.546875 -4.8125 C 1.546875 -5.0625 1.359375 -5.328125 1.015625 -5.328125 C 0.9375 -5.328125 0.921875 -5.328125 0.890625 -5.3125 C 1.109375 -5.96875 1.65625 -6.328125 2.234375 -6.328125 C 3.140625 -6.328125 3.5625 -5.515625 3.5625 -4.703125 C 3.5625 -3.90625 3.078125 -3.125 2.515625 -2.5 L 0.609375 -0.375 C 0.5 -0.265625 0.5 -0.234375 0.5 0 L 4.203125 0 L 4.46875 -1.734375 L 4.234375 -1.734375 C 4.171875 -1.4375 4.109375 -1 4 -0.84375 C 3.9375 -0.765625 3.28125 -0.765625 3.0625 -0.765625 Z \"/>\n",
        "</symbol>\n",
        "<symbol overflow=\"visible\" id=\"glyph-1175089794-0-3\">\n",
        "<path style=\"stroke:none;\" d=\"M 2.890625 -3.515625 C 3.703125 -3.78125 4.28125 -4.46875 4.28125 -5.265625 C 4.28125 -6.078125 3.40625 -6.640625 2.453125 -6.640625 C 1.453125 -6.640625 0.6875 -6.046875 0.6875 -5.28125 C 0.6875 -4.953125 0.90625 -4.765625 1.203125 -4.765625 C 1.5 -4.765625 1.703125 -4.984375 1.703125 -5.28125 C 1.703125 -5.765625 1.234375 -5.765625 1.09375 -5.765625 C 1.390625 -6.265625 2.046875 -6.390625 2.40625 -6.390625 C 2.828125 -6.390625 3.375 -6.171875 3.375 -5.28125 C 3.375 -5.15625 3.34375 -4.578125 3.09375 -4.140625 C 2.796875 -3.65625 2.453125 -3.625 2.203125 -3.625 C 2.125 -3.609375 1.890625 -3.59375 1.8125 -3.59375 C 1.734375 -3.578125 1.671875 -3.5625 1.671875 -3.46875 C 1.671875 -3.359375 1.734375 -3.359375 1.90625 -3.359375 L 2.34375 -3.359375 C 3.15625 -3.359375 3.53125 -2.6875 3.53125 -1.703125 C 3.53125 -0.34375 2.84375 -0.0625 2.40625 -0.0625 C 1.96875 -0.0625 1.21875 -0.234375 0.875 -0.8125 C 1.21875 -0.765625 1.53125 -0.984375 1.53125 -1.359375 C 1.53125 -1.71875 1.265625 -1.921875 0.984375 -1.921875 C 0.734375 -1.921875 0.421875 -1.78125 0.421875 -1.34375 C 0.421875 -0.4375 1.34375 0.21875 2.4375 0.21875 C 3.65625 0.21875 4.5625 -0.6875 4.5625 -1.703125 C 4.5625 -2.515625 3.921875 -3.296875 2.890625 -3.515625 Z \"/>\n",
        "</symbol>\n",
        "<symbol overflow=\"visible\" id=\"glyph-1175089794-0-4\">\n",
        "<path style=\"stroke:none;\" d=\"M 2.9375 -1.640625 L 2.9375 -0.78125 C 2.9375 -0.421875 2.90625 -0.3125 2.171875 -0.3125 L 1.96875 -0.3125 L 1.96875 0 C 2.375 -0.03125 2.890625 -0.03125 3.3125 -0.03125 C 3.734375 -0.03125 4.25 -0.03125 4.671875 0 L 4.671875 -0.3125 L 4.453125 -0.3125 C 3.71875 -0.3125 3.703125 -0.421875 3.703125 -0.78125 L 3.703125 -1.640625 L 4.6875 -1.640625 L 4.6875 -1.953125 L 3.703125 -1.953125 L 3.703125 -6.484375 C 3.703125 -6.6875 3.703125 -6.75 3.53125 -6.75 C 3.453125 -6.75 3.421875 -6.75 3.34375 -6.625 L 0.28125 -1.953125 L 0.28125 -1.640625 Z M 2.984375 -1.953125 L 0.5625 -1.953125 L 2.984375 -5.671875 Z \"/>\n",
        "</symbol>\n",
        "</g>\n",
        "</defs>\n",
        "<g id=\"surface1\">\n",
        "<path style=\"fill:none;stroke-width:0.3985;stroke-linecap:butt;stroke-linejoin:miter;stroke:rgb(0%,0%,0%);stroke-opacity:1;stroke-miterlimit:10;\" d=\"M -6.009563 -6.011969 L -22.013469 -22.011969 \" transform=\"matrix(1,0,0,-1,34.158,6.531)\"/>\n",
        "<path style=\"fill:none;stroke-width:0.31879;stroke-linecap:round;stroke-linejoin:round;stroke:rgb(0%,0%,0%);stroke-opacity:1;stroke-miterlimit:10;\" d=\"M -1.195336 1.592727 C -1.095902 0.996095 0.000677762 0.0983779 0.298993 -0.00106279 C 0.000676355 -0.100499 -1.095916 -0.998201 -1.195359 -1.594831 \" transform=\"matrix(-0.70709,0.7071,0.7071,0.70709,12.14576,28.54324)\"/>\n",
        "<path style=\"fill:none;stroke-width:0.3985;stroke-linecap:butt;stroke-linejoin:miter;stroke:rgb(0%,0%,0%);stroke-opacity:1;stroke-miterlimit:10;\" d=\"M -28.3455 -35.078375 L -28.3455 -49.504156 \" transform=\"matrix(1,0,0,-1,34.158,6.531)\"/>\n",
        "<path style=\"fill:none;stroke-width:0.31879;stroke-linecap:round;stroke-linejoin:round;stroke:rgb(0%,0%,0%);stroke-opacity:1;stroke-miterlimit:10;\" d=\"M -1.196436 1.59505 C -1.094874 0.997394 -0.00112375 0.0989563 0.299657 0.0013 C -0.00112375 -0.100262 -1.094874 -0.994794 -1.196436 -1.59245 \" transform=\"matrix(0,1,1,0,5.8112,56.03628)\"/>\n",
        "<path style=\"fill:none;stroke-width:0.3985;stroke-linecap:butt;stroke-linejoin:miter;stroke:rgb(0%,0%,0%);stroke-opacity:1;stroke-miterlimit:10;\" d=\"M -22.337688 -62.703375 L -6.333781 -78.707281 \" transform=\"matrix(1,0,0,-1,34.158,6.531)\"/>\n",
        "<path style=\"fill:none;stroke-width:0.31879;stroke-linecap:round;stroke-linejoin:round;stroke:rgb(0%,0%,0%);stroke-opacity:1;stroke-miterlimit:10;\" d=\"M -1.194487 1.593309 C -1.095045 0.996679 0.00154789 0.0989772 0.299864 -0.000459274 C 0.0015493 -0.0998999 -1.095031 -0.997617 -1.194465 -1.594249 \" transform=\"matrix(0.70709,0.7071,0.7071,-0.70709,27.82345,85.23686)\"/>\n",
        "<path style=\"fill:none;stroke-width:0.3985;stroke-linecap:butt;stroke-linejoin:miter;stroke:rgb(0%,0%,0%);stroke-opacity:1;stroke-miterlimit:10;\" d=\"M -0.00175 -6.730719 L -0.00175 -77.851812 \" transform=\"matrix(1,0,0,-1,34.158,6.531)\"/>\n",
        "<path style=\"fill:none;stroke-width:0.31879;stroke-linecap:round;stroke-linejoin:round;stroke:rgb(0%,0%,0%);stroke-opacity:1;stroke-miterlimit:10;\" d=\"M -1.1956 1.595906 C -1.094037 0.994344 -0.0002875 0.0998125 0.300494 -0.00175 C -0.0002875 -0.0994063 -1.094037 -0.997844 -1.1956 -1.5955 \" transform=\"matrix(0,1,1,0,34.158,84.3831)\"/>\n",
        "<g style=\"fill:rgb(0%,0%,0%);fill-opacity:1;\">\n",
        "  <use xlink:href=\"#glyph-1175089794-0-1\" x=\"31.667\" y=\"9.741\"/>\n",
        "</g>\n",
        "<g style=\"fill:rgb(0%,0%,0%);fill-opacity:1;\">\n",
        "  <use xlink:href=\"#glyph-1175089794-0-2\" x=\"3.321\" y=\"38.088\"/>\n",
        "</g>\n",
        "<g style=\"fill:rgb(0%,0%,0%);fill-opacity:1;\">\n",
        "  <use xlink:href=\"#glyph-1175089794-0-3\" x=\"3.321\" y=\"66.434\"/>\n",
        "</g>\n",
        "<g style=\"fill:rgb(0%,0%,0%);fill-opacity:1;\">\n",
        "  <use xlink:href=\"#glyph-1175089794-0-4\" x=\"31.667\" y=\"94.78\"/>\n",
        "</g>\n",
        "</g>\n",
        "</svg>\n",
        "\n"
       ],
       "text": [
        "TikzPicture(\"\\\\graph [layered layout, ] {\\n1 -> 2;\\n2 -> 3;\\n3 -> 4;\\n1 -> 4;\\n};\\n\",\"\",\"\\\\usetikzlibrary{graphs}\\r\\n\\\\usetikzlibrary{graphdrawing}\\r\\n\\n\\\\usegdlibrary{layered}\",true,true)"
       ]
      }
     ],
     "prompt_number": 2
    },
    {
     "cell_type": "markdown",
     "metadata": {},
     "source": [
      "You can save your graphs to PDF, SVG, and TEX."
     ]
    },
    {
     "cell_type": "code",
     "collapsed": false,
     "input": [
      "t = TikzGraphs.plot(g)\n",
      "save(PDF(\"graph\"), t)\n",
      "save(SVG(\"graph\"), t)\n",
      "save(TEX(\"graph\"), t)"
     ],
     "language": "python",
     "metadata": {},
     "outputs": [],
     "prompt_number": 3
    },
    {
     "cell_type": "markdown",
     "metadata": {},
     "source": [
      "You can also specify the labels."
     ]
    },
    {
     "cell_type": "code",
     "collapsed": false,
     "input": [
      "TikzGraphs.plot(g, [\"A\", \"B\", \"C\", \"D\"])"
     ],
     "language": "python",
     "metadata": {},
     "outputs": [
      {
       "metadata": {},
       "output_type": "pyout",
       "prompt_number": 4,
       "svg": [
        "<?xml version=\"1.0\" encoding=\"UTF-8\"?>\n",
        "<svg xmlns=\"http://www.w3.org/2000/svg\" xmlns:xlink=\"http://www.w3.org/1999/xlink\" width=\"42.39pt\" height=\"98.488pt\" viewBox=\"0 0 42.39 98.488\" version=\"1.1\">\n",
        "<defs>\n",
        "<g>\n",
        "<symbol overflow=\"visible\" id=\"glyph-1175089795-0-0\">\n",
        "<path style=\"stroke:none;\" d=\"\"/>\n",
        "</symbol>\n",
        "<symbol overflow=\"visible\" id=\"glyph-1175089795-0-1\">\n",
        "<path style=\"stroke:none;\" d=\"M 3.96875 -6.9375 C 3.921875 -7.0625 3.890625 -7.140625 3.734375 -7.140625 C 3.578125 -7.140625 3.546875 -7.078125 3.5 -6.9375 L 1.4375 -0.984375 C 1.25 -0.46875 0.859375 -0.3125 0.3125 -0.3125 L 0.3125 0 C 0.546875 -0.015625 0.984375 -0.03125 1.328125 -0.03125 C 1.640625 -0.03125 2.15625 -0.015625 2.484375 0 L 2.484375 -0.3125 C 1.984375 -0.3125 1.734375 -0.5625 1.734375 -0.8125 C 1.734375 -0.84375 1.75 -0.953125 1.75 -0.96875 L 2.21875 -2.265625 L 4.671875 -2.265625 L 5.203125 -0.75 C 5.21875 -0.703125 5.234375 -0.640625 5.234375 -0.609375 C 5.234375 -0.3125 4.671875 -0.3125 4.40625 -0.3125 L 4.40625 0 C 4.765625 -0.03125 5.46875 -0.03125 5.84375 -0.03125 C 6.265625 -0.03125 6.734375 -0.015625 7.140625 0 L 7.140625 -0.3125 L 6.96875 -0.3125 C 6.375 -0.3125 6.234375 -0.375 6.125 -0.703125 Z M 3.4375 -5.828125 L 4.5625 -2.578125 L 2.328125 -2.578125 Z \"/>\n",
        "</symbol>\n",
        "<symbol overflow=\"visible\" id=\"glyph-1175089795-0-2\">\n",
        "<path style=\"stroke:none;\" d=\"M 2.21875 -3.65625 L 2.21875 -6.09375 C 2.21875 -6.4375 2.234375 -6.5 2.703125 -6.5 L 3.9375 -6.5 C 4.90625 -6.5 5.25 -5.65625 5.25 -5.125 C 5.25 -4.484375 4.765625 -3.65625 3.65625 -3.65625 Z M 4.5625 -3.5625 C 5.53125 -3.75 6.21875 -4.390625 6.21875 -5.125 C 6.21875 -5.984375 5.296875 -6.8125 4 -6.8125 L 0.359375 -6.8125 L 0.359375 -6.5 L 0.59375 -6.5 C 1.359375 -6.5 1.390625 -6.390625 1.390625 -6.03125 L 1.390625 -0.78125 C 1.390625 -0.421875 1.359375 -0.3125 0.59375 -0.3125 L 0.359375 -0.3125 L 0.359375 0 L 4.265625 0 C 5.59375 0 6.484375 -0.890625 6.484375 -1.828125 C 6.484375 -2.6875 5.671875 -3.4375 4.5625 -3.5625 Z M 3.953125 -0.3125 L 2.703125 -0.3125 C 2.234375 -0.3125 2.21875 -0.375 2.21875 -0.703125 L 2.21875 -3.421875 L 4.09375 -3.421875 C 5.078125 -3.421875 5.5 -2.5 5.5 -1.828125 C 5.5 -1.125 4.96875 -0.3125 3.953125 -0.3125 Z \"/>\n",
        "</symbol>\n",
        "<symbol overflow=\"visible\" id=\"glyph-1175089795-0-3\">\n",
        "<path style=\"stroke:none;\" d=\"M 0.5625 -3.40625 C 0.5625 -1.34375 2.171875 0.21875 4.03125 0.21875 C 5.65625 0.21875 6.625 -1.171875 6.625 -2.328125 C 6.625 -2.421875 6.625 -2.5 6.5 -2.5 C 6.390625 -2.5 6.390625 -2.4375 6.375 -2.328125 C 6.296875 -0.90625 5.234375 -0.09375 4.140625 -0.09375 C 3.53125 -0.09375 1.578125 -0.421875 1.578125 -3.40625 C 1.578125 -6.375 3.53125 -6.71875 4.140625 -6.71875 C 5.21875 -6.71875 6.109375 -5.8125 6.3125 -4.359375 C 6.328125 -4.21875 6.328125 -4.1875 6.46875 -4.1875 C 6.625 -4.1875 6.625 -4.21875 6.625 -4.421875 L 6.625 -6.78125 C 6.625 -6.953125 6.625 -7.03125 6.515625 -7.03125 C 6.484375 -7.03125 6.4375 -7.03125 6.359375 -6.90625 L 5.859375 -6.171875 C 5.5 -6.53125 4.984375 -7.03125 4.03125 -7.03125 C 2.15625 -7.03125 0.5625 -5.4375 0.5625 -3.40625 Z \"/>\n",
        "</symbol>\n",
        "<symbol overflow=\"visible\" id=\"glyph-1175089795-0-4\">\n",
        "<path style=\"stroke:none;\" d=\"M 0.34375 -6.8125 L 0.34375 -6.5 L 0.59375 -6.5 C 1.359375 -6.5 1.375 -6.390625 1.375 -6.03125 L 1.375 -0.78125 C 1.375 -0.421875 1.359375 -0.3125 0.59375 -0.3125 L 0.34375 -0.3125 L 0.34375 0 L 4 0 C 5.671875 0 7.046875 -1.46875 7.046875 -3.34375 C 7.046875 -5.25 5.703125 -6.8125 4 -6.8125 Z M 2.71875 -0.3125 C 2.25 -0.3125 2.234375 -0.375 2.234375 -0.703125 L 2.234375 -6.09375 C 2.234375 -6.4375 2.25 -6.5 2.71875 -6.5 L 3.71875 -6.5 C 4.34375 -6.5 5.03125 -6.28125 5.53125 -5.578125 C 5.96875 -4.984375 6.046875 -4.125 6.046875 -3.34375 C 6.046875 -2.25 5.859375 -1.640625 5.5 -1.15625 C 5.296875 -0.890625 4.734375 -0.3125 3.734375 -0.3125 Z \"/>\n",
        "</symbol>\n",
        "</g>\n",
        "</defs>\n",
        "<g id=\"surface1\">\n",
        "<path style=\"fill:none;stroke-width:0.3985;stroke-linecap:butt;stroke-linejoin:miter;stroke:rgb(0%,0%,0%);stroke-opacity:1;stroke-miterlimit:10;\" d=\"M -6.925156 -6.924438 L -21.097031 -21.100219 \" transform=\"matrix(1,0,0,-1,35.265,6.724)\"/>\n",
        "<path style=\"fill:none;stroke-width:0.31879;stroke-linecap:round;stroke-linejoin:round;stroke:rgb(0%,0%,0%);stroke-opacity:1;stroke-miterlimit:10;\" d=\"M -1.193749 1.59314 C -1.094294 0.996537 -0.000484415 0.101667 0.300584 -0.000518806 C 0.00228478 -0.0999637 -1.096985 -0.994912 -1.193636 -1.594283 \" transform=\"matrix(-0.70715,0.7071,0.7071,0.70715,14.16605,27.82298)\"/>\n",
        "<path style=\"fill:none;stroke-width:0.3985;stroke-linecap:butt;stroke-linejoin:miter;stroke:rgb(0%,0%,0%);stroke-opacity:1;stroke-miterlimit:10;\" d=\"M -28.347031 -35.272094 L -28.347031 -49.311156 \" transform=\"matrix(1,0,0,-1,35.265,6.724)\"/>\n",
        "<path style=\"fill:none;stroke-width:0.31879;stroke-linecap:round;stroke-linejoin:round;stroke:rgb(0%,0%,0%);stroke-opacity:1;stroke-miterlimit:10;\" d=\"M -1.195726 1.593519 C -1.094164 0.995862 -0.00041375 0.101331 0.300368 -0.00023125 C -0.00041375 -0.0978875 -1.094164 -0.996325 -1.195726 -1.593981 \" transform=\"matrix(0,1,1,0,6.9182,56.03557)\"/>\n",
        "<path style=\"fill:none;stroke-width:0.3985;stroke-linecap:butt;stroke-linejoin:miter;stroke:rgb(0%,0%,0%);stroke-opacity:1;stroke-miterlimit:10;\" d=\"M -21.42125 -63.615844 L -7.249375 -77.791625 \" transform=\"matrix(1,0,0,-1,35.265,6.724)\"/>\n",
        "<path style=\"fill:none;stroke-width:0.31879;stroke-linecap:round;stroke-linejoin:round;stroke:rgb(0%,0%,0%);stroke-opacity:1;stroke-miterlimit:10;\" d=\"M -1.194937 1.596113 C -1.095524 0.993979 -0.00177836 0.0990314 0.296521 -0.000413524 C -0.00178539 -0.0998373 -1.095595 -0.994708 -1.197812 -1.594072 \" transform=\"matrix(0.70715,0.7071,0.7071,-0.70715,28.01717,84.5166)\"/>\n",
        "<path style=\"fill:none;stroke-width:0.3985;stroke-linecap:butt;stroke-linejoin:miter;stroke:rgb(0%,0%,0%);stroke-opacity:1;stroke-miterlimit:10;\" d=\"M 0.000625 -6.924438 L 0.000625 -77.658813 \" transform=\"matrix(1,0,0,-1,35.265,6.724)\"/>\n",
        "<path style=\"fill:none;stroke-width:0.31879;stroke-linecap:round;stroke-linejoin:round;stroke:rgb(0%,0%,0%);stroke-opacity:1;stroke-miterlimit:10;\" d=\"M -1.19487 1.594375 C -1.097214 0.996719 0.0004425 0.0982812 0.297318 0.000625 C 0.0004425 -0.100938 -1.097214 -0.995469 -1.19487 -1.593125 \" transform=\"matrix(0,1,1,0,35.265,84.38237)\"/>\n",
        "<g style=\"fill:rgb(0%,0%,0%);fill-opacity:1;\">\n",
        "  <use xlink:href=\"#glyph-1175089795-0-1\" x=\"31.529\" y=\"10.128\"/>\n",
        "</g>\n",
        "<g style=\"fill:rgb(0%,0%,0%);fill-opacity:1;\">\n",
        "  <use xlink:href=\"#glyph-1175089795-0-2\" x=\"3.39\" y=\"38.475\"/>\n",
        "</g>\n",
        "<g style=\"fill:rgb(0%,0%,0%);fill-opacity:1;\">\n",
        "  <use xlink:href=\"#glyph-1175089795-0-3\" x=\"3.321\" y=\"66.821\"/>\n",
        "</g>\n",
        "<g style=\"fill:rgb(0%,0%,0%);fill-opacity:1;\">\n",
        "  <use xlink:href=\"#glyph-1175089795-0-4\" x=\"31.459\" y=\"95.167\"/>\n",
        "</g>\n",
        "</g>\n",
        "</svg>\n",
        "\n"
       ],
       "text": [
        "TikzPicture(\"\\\\graph [layered layout, ] {\\n\\\"A\\\" -> \\\"B\\\";\\n\\\"B\\\" -> \\\"C\\\";\\n\\\"C\\\" -> \\\"D\\\";\\n\\\"A\\\" -> \\\"D\\\";\\n};\\n\",\"\",\"\\\\usetikzlibrary{graphs}\\r\\n\\\\usetikzlibrary{graphdrawing}\\r\\n\\n\\\\usegdlibrary{layered}\",true,true)"
       ]
      }
     ],
     "prompt_number": 4
    },
    {
     "cell_type": "markdown",
     "metadata": {},
     "source": [
      "You can use different layouts (currently just Layered [default] and Spring are supported)."
     ]
    },
    {
     "cell_type": "code",
     "collapsed": false,
     "input": [
      "TikzGraphs.plot(g, Layouts.Spring())"
     ],
     "language": "python",
     "metadata": {},
     "outputs": [
      {
       "metadata": {},
       "output_type": "pyout",
       "prompt_number": 8,
       "svg": [
        "<?xml version=\"1.0\" encoding=\"UTF-8\"?>\n",
        "<svg xmlns=\"http://www.w3.org/2000/svg\" xmlns:xlink=\"http://www.w3.org/1999/xlink\" width=\"61.045pt\" height=\"37.949pt\" viewBox=\"0 0 61.045 37.949\" version=\"1.1\">\n",
        "<defs>\n",
        "<g>\n",
        "<symbol overflow=\"visible\" id=\"glyph-1175089799-0-0\">\n",
        "<path style=\"stroke:none;\" d=\"\"/>\n",
        "</symbol>\n",
        "<symbol overflow=\"visible\" id=\"glyph-1175089799-0-1\">\n",
        "<path style=\"stroke:none;\" d=\"M 2.9375 -6.375 C 2.9375 -6.625 2.9375 -6.640625 2.703125 -6.640625 C 2.078125 -6 1.203125 -6 0.890625 -6 L 0.890625 -5.6875 C 1.09375 -5.6875 1.671875 -5.6875 2.1875 -5.953125 L 2.1875 -0.78125 C 2.1875 -0.421875 2.15625 -0.3125 1.265625 -0.3125 L 0.953125 -0.3125 L 0.953125 0 C 1.296875 -0.03125 2.15625 -0.03125 2.5625 -0.03125 C 2.953125 -0.03125 3.828125 -0.03125 4.171875 0 L 4.171875 -0.3125 L 3.859375 -0.3125 C 2.953125 -0.3125 2.9375 -0.421875 2.9375 -0.78125 Z \"/>\n",
        "</symbol>\n",
        "<symbol overflow=\"visible\" id=\"glyph-1175089799-0-2\">\n",
        "<path style=\"stroke:none;\" d=\"M 1.265625 -0.765625 L 2.328125 -1.796875 C 3.875 -3.171875 4.46875 -3.703125 4.46875 -4.703125 C 4.46875 -5.84375 3.578125 -6.640625 2.359375 -6.640625 C 1.234375 -6.640625 0.5 -5.71875 0.5 -4.828125 C 0.5 -4.28125 1 -4.28125 1.03125 -4.28125 C 1.203125 -4.28125 1.546875 -4.390625 1.546875 -4.8125 C 1.546875 -5.0625 1.359375 -5.328125 1.015625 -5.328125 C 0.9375 -5.328125 0.921875 -5.328125 0.890625 -5.3125 C 1.109375 -5.96875 1.65625 -6.328125 2.234375 -6.328125 C 3.140625 -6.328125 3.5625 -5.515625 3.5625 -4.703125 C 3.5625 -3.90625 3.078125 -3.125 2.515625 -2.5 L 0.609375 -0.375 C 0.5 -0.265625 0.5 -0.234375 0.5 0 L 4.203125 0 L 4.46875 -1.734375 L 4.234375 -1.734375 C 4.171875 -1.4375 4.109375 -1 4 -0.84375 C 3.9375 -0.765625 3.28125 -0.765625 3.0625 -0.765625 Z \"/>\n",
        "</symbol>\n",
        "<symbol overflow=\"visible\" id=\"glyph-1175089799-0-3\">\n",
        "<path style=\"stroke:none;\" d=\"M 2.890625 -3.515625 C 3.703125 -3.78125 4.28125 -4.46875 4.28125 -5.265625 C 4.28125 -6.078125 3.40625 -6.640625 2.453125 -6.640625 C 1.453125 -6.640625 0.6875 -6.046875 0.6875 -5.28125 C 0.6875 -4.953125 0.90625 -4.765625 1.203125 -4.765625 C 1.5 -4.765625 1.703125 -4.984375 1.703125 -5.28125 C 1.703125 -5.765625 1.234375 -5.765625 1.09375 -5.765625 C 1.390625 -6.265625 2.046875 -6.390625 2.40625 -6.390625 C 2.828125 -6.390625 3.375 -6.171875 3.375 -5.28125 C 3.375 -5.15625 3.34375 -4.578125 3.09375 -4.140625 C 2.796875 -3.65625 2.453125 -3.625 2.203125 -3.625 C 2.125 -3.609375 1.890625 -3.59375 1.8125 -3.59375 C 1.734375 -3.578125 1.671875 -3.5625 1.671875 -3.46875 C 1.671875 -3.359375 1.734375 -3.359375 1.90625 -3.359375 L 2.34375 -3.359375 C 3.15625 -3.359375 3.53125 -2.6875 3.53125 -1.703125 C 3.53125 -0.34375 2.84375 -0.0625 2.40625 -0.0625 C 1.96875 -0.0625 1.21875 -0.234375 0.875 -0.8125 C 1.21875 -0.765625 1.53125 -0.984375 1.53125 -1.359375 C 1.53125 -1.71875 1.265625 -1.921875 0.984375 -1.921875 C 0.734375 -1.921875 0.421875 -1.78125 0.421875 -1.34375 C 0.421875 -0.4375 1.34375 0.21875 2.4375 0.21875 C 3.65625 0.21875 4.5625 -0.6875 4.5625 -1.703125 C 4.5625 -2.515625 3.921875 -3.296875 2.890625 -3.515625 Z \"/>\n",
        "</symbol>\n",
        "<symbol overflow=\"visible\" id=\"glyph-1175089799-0-4\">\n",
        "<path style=\"stroke:none;\" d=\"M 2.9375 -1.640625 L 2.9375 -0.78125 C 2.9375 -0.421875 2.90625 -0.3125 2.171875 -0.3125 L 1.96875 -0.3125 L 1.96875 0 C 2.375 -0.03125 2.890625 -0.03125 3.3125 -0.03125 C 3.734375 -0.03125 4.25 -0.03125 4.671875 0 L 4.671875 -0.3125 L 4.453125 -0.3125 C 3.71875 -0.3125 3.703125 -0.421875 3.703125 -0.78125 L 3.703125 -1.640625 L 4.6875 -1.640625 L 4.6875 -1.953125 L 3.703125 -1.953125 L 3.703125 -6.484375 C 3.703125 -6.6875 3.703125 -6.75 3.53125 -6.75 C 3.453125 -6.75 3.421875 -6.75 3.34375 -6.625 L 0.28125 -1.953125 L 0.28125 -1.640625 Z M 2.984375 -1.953125 L 0.5625 -1.953125 L 2.984375 -5.671875 Z \"/>\n",
        "</symbol>\n",
        "</g>\n",
        "</defs>\n",
        "<g id=\"surface1\">\n",
        "<path style=\"fill:none;stroke-width:0.3985;stroke-linecap:butt;stroke-linejoin:miter;stroke:rgb(0%,0%,0%);stroke-opacity:1;stroke-miterlimit:10;\" d=\"M 0.0015 -6.731719 L 0.0015 -17.700469 \" transform=\"matrix(1,0,0,-1,5.811,6.53)\"/>\n",
        "<path style=\"fill:none;stroke-width:0.31879;stroke-linecap:round;stroke-linejoin:round;stroke:rgb(0%,0%,0%);stroke-opacity:1;stroke-miterlimit:10;\" d=\"M -1.194844 1.59525 C -1.097187 0.997594 0.00046875 0.0991563 0.297344 0.0015 C 0.00046875 -0.100062 -1.097187 -0.994594 -1.194844 -1.59225 \" transform=\"matrix(0,1,1,0,5.811,24.23)\"/>\n",
        "<path style=\"fill:none;stroke-width:0.3985;stroke-linecap:butt;stroke-linejoin:miter;stroke:rgb(0%,0%,0%);stroke-opacity:1;stroke-miterlimit:10;\" d=\"M 6.009313 -21.837188 L 42.606969 -3.270781 \" transform=\"matrix(1,0,0,-1,5.811,6.53)\"/>\n",
        "<path style=\"fill:none;stroke-width:0.31879;stroke-linecap:round;stroke-linejoin:round;stroke:rgb(0%,0%,0%);stroke-opacity:1;stroke-miterlimit:10;\" d=\"M -1.196623 1.592642 C -1.097366 0.996362 -0.0018246 0.099853 0.297181 0.000552233 C 0.00223193 -0.0987362 -1.09516 -0.996272 -1.197966 -1.594846 \" transform=\"matrix(0.89442,-0.45381,-0.45381,-0.89442,48.41804,9.79942)\"/>\n",
        "<path style=\"fill:none;stroke-width:0.3985;stroke-linecap:butt;stroke-linejoin:miter;stroke:rgb(0%,0%,0%);stroke-opacity:1;stroke-miterlimit:10;\" d=\"M 49.134313 -6.743438 L 49.306188 -17.450469 \" transform=\"matrix(1,0,0,-1,5.811,6.53)\"/>\n",
        "<path style=\"fill:none;stroke-width:0.31879;stroke-linecap:round;stroke-linejoin:round;stroke:rgb(0%,0%,0%);stroke-opacity:1;stroke-miterlimit:10;\" d=\"M -1.196674 1.595849 C -1.096913 0.996562 -0.00187203 0.100035 0.297342 0.00147773 C -0.00116355 -0.099205 -1.097639 -0.995714 -1.197117 -1.59571 \" transform=\"matrix(0.01605,0.99995,0.99995,-0.01605,55.11875,23.98004)\"/>\n",
        "<path style=\"fill:none;stroke-width:0.3985;stroke-linecap:butt;stroke-linejoin:miter;stroke:rgb(0%,0%,0%);stroke-opacity:1;stroke-miterlimit:10;\" d=\"M 6.009313 -2.997344 L 43.0015 -21.43875 \" transform=\"matrix(1,0,0,-1,5.811,6.53)\"/>\n",
        "<path style=\"fill:none;stroke-width:0.31879;stroke-linecap:round;stroke-linejoin:round;stroke:rgb(0%,0%,0%);stroke-opacity:1;stroke-miterlimit:10;\" d=\"M -1.194823 1.594679 C -1.096315 0.995641 -0.000556528 0.0976666 0.300524 -0.000199313 C 0.000946373 -0.0973317 -1.095266 -0.996111 -1.196977 -1.594904 \" transform=\"matrix(0.898,0.44763,0.44763,-0.898,48.81225,27.96686)\"/>\n",
        "<g style=\"fill:rgb(0%,0%,0%);fill-opacity:1;\">\n",
        "  <use xlink:href=\"#glyph-1175089799-0-1\" x=\"3.321\" y=\"9.74\"/>\n",
        "</g>\n",
        "<g style=\"fill:rgb(0%,0%,0%);fill-opacity:1;\">\n",
        "  <use xlink:href=\"#glyph-1175089799-0-2\" x=\"3.321\" y=\"34.628\"/>\n",
        "</g>\n",
        "<g style=\"fill:rgb(0%,0%,0%);fill-opacity:1;\">\n",
        "  <use xlink:href=\"#glyph-1175089799-0-3\" x=\"52.347\" y=\"9.752\"/>\n",
        "</g>\n",
        "<g style=\"fill:rgb(0%,0%,0%);fill-opacity:1;\">\n",
        "  <use xlink:href=\"#glyph-1175089799-0-4\" x=\"52.743\" y=\"34.378\"/>\n",
        "</g>\n",
        "</g>\n",
        "</svg>\n",
        "\n"
       ],
       "text": [
        "TikzPicture(\"\\\\graph [spring layout, random seed = 0] {\\n1 -> 2;\\n2 -> 3;\\n3 -> 4;\\n1 -> 4;\\n};\\n\",\"\",\"\\\\usetikzlibrary{graphs}\\r\\n\\\\usetikzlibrary{graphdrawing}\\r\\n\\n\\\\usegdlibrary{force}\",true,true)"
       ]
      }
     ],
     "prompt_number": 8
    },
    {
     "cell_type": "heading",
     "level": 2,
     "metadata": {},
     "source": [
      "Future Plans"
     ]
    },
    {
     "cell_type": "markdown",
     "metadata": {},
     "source": [
      "Gradually, more functionality from pgf/tikz will be migrated into this package. Eventually, this package will support different layout options, annotations, styles, etc."
     ]
    }
   ],
   "metadata": {}
  }
 ]
}